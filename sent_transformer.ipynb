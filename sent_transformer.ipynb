{
 "cells": [
  {
   "cell_type": "code",
   "execution_count": 62,
   "id": "193072a8-687b-4c12-87c7-2518f4505c54",
   "metadata": {},
   "outputs": [],
   "source": [
    "import pandas as pd\n",
    "import streamlit as st\n",
    "from sentence_transformers import SentenceTransformer, util\n",
    "\n",
    "\n"
   ]
  },
  {
   "cell_type": "code",
   "execution_count": 55,
   "id": "cf8e5195-3bd4-4b6e-b0d0-10f24bea0166",
   "metadata": {},
   "outputs": [],
   "source": [
    "# Load the pre-trained SentenceTransformer model\n",
    "model = SentenceTransformer('paraphrase-MiniLM-L6-v2')\n",
    "#model = SentenceTransformer('all-distilroberta-v1')\n",
    "#model = SentenceTransformer('all-MiniLM-L12-v2')\n",
    "#model = SentenceTransformer('paraphrase-mpnet-base-v2')"
   ]
  },
  {
   "cell_type": "code",
   "execution_count": 56,
   "id": "e96306c7-465a-472e-8cca-1b48d95d4b29",
   "metadata": {},
   "outputs": [],
   "source": [
    "# Create a DataFrame with descriptions\n",
    "data = {\n",
    "    'Descriptions': [\n",
    "        \"The car turned left and the kept going. The description of the car was white honda civic, 4 door. The victim didn't see the suspects clearly.\",\n",
    "        \"make was honda and model was civic. colour is white. 4 door with large windows\",\n",
    "        \"the description provided was honda accord, 4 door.\",\n",
    "        \"it was a black pickup truck. unknown make and model.\"\n",
    "    ]\n",
    "}\n",
    "df = pd.DataFrame(data)"
   ]
  },
  {
   "cell_type": "code",
   "execution_count": null,
   "id": "7c9372aa-0d19-4c15-9845-0d273b185e4d",
   "metadata": {},
   "outputs": [],
   "source": []
  },
  {
   "cell_type": "markdown",
   "id": "098e7563-545f-4e56-8ad9-339b1b93a93e",
   "metadata": {},
   "source": [
    "# Text to compare against\n",
    "query_text = \"white honda civic with 4 doors.\"\n",
    "\n",
    "# Encode the query text\n",
    "query_embedding = model.encode(query_text, convert_to_tensor=True)\n",
    "\n",
    "# Calculate cosine similarity for each description\n",
    "def calculate_similarity(description):\n",
    "    description_embedding = model.encode(description, convert_to_tensor=True)\n",
    "    similarity_score = util.pytorch_cos_sim(query_embedding, description_embedding)\n",
    "    return similarity_score.item()\n",
    "\n",
    "# Apply similarity calculation and add as a new column\n",
    "df['Similarity Score'] = df['Descriptions'].apply(calculate_similarity)\n",
    "\n",
    "print(df)"
   ]
  },
  {
   "cell_type": "markdown",
   "id": "9cce2a5f-2b31-4b9f-b03a-361d1e9c5c45",
   "metadata": {},
   "source": [
    "## Streamlit ##"
   ]
  },
  {
   "cell_type": "code",
   "execution_count": 70,
   "id": "2679ed72-e18e-42b9-a030-5bb01edc563a",
   "metadata": {},
   "outputs": [
    {
     "name": "stderr",
     "output_type": "stream",
     "text": [
      "2024-12-09 19:41:19.981 \n",
      "  \u001b[33m\u001b[1mWarning:\u001b[0m to view this Streamlit app on a browser, run it with the following\n",
      "  command:\n",
      "\n",
      "    streamlit run C:\\Users\\zsnow\\anaconda3\\Lib\\site-packages\\ipykernel_launcher.py [ARGUMENTS]\n"
     ]
    }
   ],
   "source": [
    "st.title(\"COS Similarity\")\n",
    "st.write(\"This demo shows the application of cos simialarity to scan through the reports and identify a match in description, MO or simiarity of the texts.\")\n",
    "\n",
    "query_text = st.text_area(\"white honda civic with 4 doors\")\n",
    "\n",
    "# Encode the query text\n",
    "query_embedding = model.encode(query_text, convert_to_tensor=True)\n",
    "\n",
    "# Calculate cosine similarity for each description\n",
    "def calculate_similarity(description):\n",
    "    description_embedding = model.encode(description, convert_to_tensor=True)\n",
    "    similarity_score = util.pytorch_cos_sim(query_embedding, description_embedding)\n",
    "    return similarity_score.item()\n",
    "\n",
    "if st.button(label=\"Search\"):\n",
    "    # Apply similarity calculation and add as a new column\n",
    "    df['Similarity Score'] = df['Descriptions'].apply(calculate_similarity)\n",
    "    st.table(df)"
   ]
  },
  {
   "cell_type": "code",
   "execution_count": null,
   "id": "5f437947-b4bc-4809-9468-41086dd42369",
   "metadata": {},
   "outputs": [],
   "source": []
  }
 ],
 "metadata": {
  "kernelspec": {
   "display_name": "Python 3 (ipykernel)",
   "language": "python",
   "name": "python3"
  },
  "language_info": {
   "codemirror_mode": {
    "name": "ipython",
    "version": 3
   },
   "file_extension": ".py",
   "mimetype": "text/x-python",
   "name": "python",
   "nbconvert_exporter": "python",
   "pygments_lexer": "ipython3",
   "version": "3.11.7"
  }
 },
 "nbformat": 4,
 "nbformat_minor": 5
}
